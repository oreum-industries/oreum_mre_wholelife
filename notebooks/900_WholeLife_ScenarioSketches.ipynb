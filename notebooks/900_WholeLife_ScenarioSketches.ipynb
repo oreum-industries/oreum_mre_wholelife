{
  "cells": [
    {
      "attachments": {},
      "cell_type": "markdown",
      "metadata": {},
      "source": [
        "**Oreum Industries Internal Project, 2024Q3**\n",
        "\n",
        "---\n",
        "\n",
        "### Permanent Life Financial Metrics in `oreum_mre_wholelife`\n",
        "\n",
        "# 900_WholeLife_ScenarioSketches\n",
        "\n",
        "## Contents\n",
        "\n",
        "+ [Setup](#Setup)\n",
        "\n",
        "+ [1. Sketch Scenario](#1.-Sketch-Scenario)\n",
        "\n",
        "\n",
        "---"
      ]
    },
    {
      "attachments": {},
      "cell_type": "markdown",
      "metadata": {},
      "source": [
        "# Setup"
      ]
    },
    {
      "attachments": {},
      "cell_type": "markdown",
      "metadata": {},
      "source": [
        "## Imports"
      ]
    },
    {
      "cell_type": "code",
      "execution_count": 1,
      "metadata": {},
      "outputs": [],
      "source": [
        "import sys\n",
        "from pathlib import Path\n",
        "\n",
        "from IPython.display import display\n",
        "from oreum_core import eda\n",
        "from pyprojroot.here import here\n",
        "\n",
        "# prepend local project src files\n",
        "module_path = here('src').resolve(strict=True)\n",
        "if str(module_path) not in sys.path:\n",
        "    sys.path.insert(0, str(module_path))\n",
        "\n",
        "from synthetic.create_life_policy import LifePolicyBuilder\n",
        "\n",
        "import warnings  # isort:skip # suppress seaborn, it's far too chatty\n",
        "\n",
        "warnings.simplefilter(action='ignore', category=FutureWarning)  # isort:skip\n",
        "import seaborn as sns"
      ]
    },
    {
      "attachments": {},
      "cell_type": "markdown",
      "metadata": {},
      "source": [
        "##### Notebook config"
      ]
    },
    {
      "cell_type": "code",
      "execution_count": 2,
      "metadata": {},
      "outputs": [],
      "source": [
        "# %matplotlib inline  # DO NOT USE INLINE: THIS CAUSES DOUBLE PLOTTING\n",
        "%config InlineBackend.figure_format = 'retina'\n",
        "# %config InlineBackend.figure_formats = ['svg', 'retina']\n",
        "\n",
        "# NOTE reqd to render plot properly to file when figio.write called from notebook\n",
        "sns.set(style='darkgrid',palette='muted', context='notebook',\n",
        "    rc={'savefig.dpi': 300, 'figure.figsize': (12, 3)})"
      ]
    },
    {
      "attachments": {},
      "cell_type": "markdown",
      "metadata": {},
      "source": [
        "## Local Functions and Global Vars"
      ]
    },
    {
      "cell_type": "code",
      "execution_count": 3,
      "metadata": {},
      "outputs": [],
      "source": [
        "fqp_plots = here(Path('plots')).resolve(strict=True)\n",
        "figio = eda.FigureIO(rootdir=fqp_plots)"
      ]
    },
    {
      "attachments": {},
      "cell_type": "markdown",
      "metadata": {},
      "source": [
        "## Data Connections"
      ]
    },
    {
      "cell_type": "code",
      "execution_count": 4,
      "metadata": {},
      "outputs": [],
      "source": [
        "# None"
      ]
    },
    {
      "attachments": {},
      "cell_type": "markdown",
      "metadata": {},
      "source": [
        "---\n",
        "\n",
        "---"
      ]
    },
    {
      "attachments": {},
      "cell_type": "markdown",
      "metadata": {},
      "source": [
        "# 1. Sketch Scenario"
      ]
    },
    {
      "cell_type": "markdown",
      "metadata": {},
      "source": [
        "Based on tabular values in [Dataroom: 09 Advantages of Secondary Market Aquisition](https://infineo.docsend.com/view/x6ir68zuxuds34fb/d/6ijswicr7trmqyk5)"
      ]
    },
    {
      "cell_type": "code",
      "execution_count": 5,
      "metadata": {},
      "outputs": [],
      "source": [
        "lb = LifePolicyBuilder()"
      ]
    },
    {
      "cell_type": "code",
      "execution_count": 6,
      "metadata": {},
      "outputs": [
        {
          "data": {
            "application/vnd.jupyter.widget-view+json": {
              "model_id": "45875383a51a472abb60be3cbc071614",
              "version_major": 2,
              "version_minor": 0
            },
            "text/plain": [
              "VBox(children=(Label(value='Whole Life Policy Simulation Parameters'), HBox(children=(Label(value='Policyholde\u2026"
            ]
          },
          "metadata": {},
          "output_type": "display_data"
        },
        {
          "data": {
            "application/vnd.jupyter.widget-view+json": {
              "model_id": "5152ea8a81d140ee9b4b0b003a7714dc",
              "version_major": 2,
              "version_minor": 0
            },
            "text/plain": [
              "Output()"
            ]
          },
          "metadata": {},
          "output_type": "display_data"
        }
      ],
      "source": [
        "ui, out, controls = lb.get_interactive()\n",
        "display(ui, out)"
      ]
    },
    {
      "cell_type": "markdown",
      "metadata": {},
      "source": [
        "---"
      ]
    },
    {
      "cell_type": "markdown",
      "metadata": {},
      "source": [
        "Optional manually get df based on current control values"
      ]
    },
    {
      "cell_type": "code",
      "execution_count": 7,
      "metadata": {},
      "outputs": [],
      "source": [
        "# df = lb.create(ref_vals={k: v.value for k, v in controls.items()})\n",
        "# eda.display_fw(df.head(25))\n",
        "# # eda.display_ht(df, 10)"
      ]
    },
    {
      "cell_type": "markdown",
      "metadata": {},
      "source": [
        "Optionally plot resulting policy and save to file"
      ]
    },
    {
      "cell_type": "code",
      "execution_count": 8,
      "metadata": {},
      "outputs": [],
      "source": [
        "# f = lb.plot_policy_lifetime(ref_vals={k: v.value for k, v in controls.items()})\n",
        "# _ = figio.write(f, '900_policy_lifetime_financial_metrics')"
      ]
    },
    {
      "attachments": {},
      "cell_type": "markdown",
      "metadata": {},
      "source": [
        "---\n",
        "\n",
        "---"
      ]
    },
    {
      "attachments": {},
      "cell_type": "markdown",
      "metadata": {},
      "source": [
        "# Notes"
      ]
    },
    {
      "cell_type": "code",
      "execution_count": 9,
      "metadata": {},
      "outputs": [
        {
          "name": "stdout",
          "output_type": "stream",
          "text": [
            "Author: jonathan.sedar@oreum.io\n",
            "\n",
            "Last updated: 2024-11-18 17:33:26\n",
            "\n",
            "Python implementation: CPython\n",
            "Python version       : 3.11.10\n",
            "IPython version      : 8.29.0\n",
            "\n",
            "Compiler    : Clang 17.0.6 \n",
            "OS          : Darwin\n",
            "Release     : 23.6.0\n",
            "Machine     : arm64\n",
            "Processor   : arm\n",
            "CPU cores   : 8\n",
            "Architecture: 64bit\n",
            "\n",
            "oreum_core: 0.9.7\n",
            "sys       : 3.11.10 | packaged by conda-forge | (main, Oct 16 2024, 01:26:25) [Clang 17.0.6 ]\n",
            "pyprojroot: 0.3.0\n",
            "seaborn   : 0.12.2\n",
            "IPython   : 8.29.0\n",
            "\n"
          ]
        }
      ],
      "source": [
        "%load_ext watermark\n",
        "%watermark -a \"jonathan.sedar@oreum.io\" -udtmv -iv"
      ]
    },
    {
      "attachments": {},
      "cell_type": "markdown",
      "metadata": {},
      "source": [
        "---\n",
        "**Oreum O\u00dc &copy; 2024**"
      ]
    }
  ],
  "metadata": {
    "kernelspec": {
      "display_name": "oreum_mre_wholelife",
      "language": "python",
      "name": "python3"
    },
    "language_info": {
      "codemirror_mode": {
        "name": "ipython",
        "version": 3
      },
      "file_extension": ".py",
      "mimetype": "text/x-python",
      "name": "python",
      "nbconvert_exporter": "python",
      "pygments_lexer": "ipython3",
      "version": "3.11.10"
    },
    "pycharm": {
      "stem_cell": {
        "cell_type": "raw",
        "metadata": {
          "collapsed": false
        },
        "source": []
      }
    },
    "toc": {
      "base_numbering": 1,
      "nav_menu": {},
      "number_sections": true,
      "sideBar": true,
      "skip_h1_title": false,
      "title_cell": "Table of Contents",
      "title_sidebar": "Contents",
      "toc_cell": false,
      "toc_position": {},
      "toc_section_display": true,
      "toc_window_display": false
    }
  },
  "nbformat": 4,
  "nbformat_minor": 4
}
